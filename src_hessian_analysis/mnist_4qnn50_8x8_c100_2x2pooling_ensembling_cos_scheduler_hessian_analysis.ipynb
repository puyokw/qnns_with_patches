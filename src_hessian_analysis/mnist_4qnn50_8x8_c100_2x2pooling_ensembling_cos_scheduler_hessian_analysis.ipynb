{
 "cells": [
  {
   "cell_type": "code",
   "execution_count": 1,
   "metadata": {
    "execution": {
     "iopub.execute_input": "2025-03-08T04:36:24.681982Z",
     "iopub.status.busy": "2025-03-08T04:36:24.681706Z",
     "iopub.status.idle": "2025-03-08T04:36:26.257825Z",
     "shell.execute_reply": "2025-03-08T04:36:26.257323Z"
    }
   },
   "outputs": [],
   "source": [
    "# -*- coding: utf-8 -*-\n",
    "%matplotlib inline\n",
    "import matplotlib.pyplot as plt\n",
    "\n",
    "import math\n",
    "import numpy as np\n",
    "import pandas as pd\n",
    "#import seaborn as sns\n",
    "\n",
    "#from sklearn.metrics import accuracy_score, log_loss\n",
    "from sklearn.model_selection import StratifiedKFold\n",
    "\n",
    "import torch\n",
    "import torch.nn as nn\n",
    "from torch.optim import Adam, SGD\n",
    "import torch.utils.checkpoint as checkpoint\n",
    "\n",
    "import torchvision\n",
    "from torchvision.transforms import v2\n",
    "\n",
    "import warnings\n",
    "import time\n",
    "import functools\n",
    "import copy\n",
    "from tqdm import tqdm\n",
    "\n",
    "from pyhessian import hessian\n",
    "\n",
    "seed = 1001\n",
    "np.random.seed(seed)\n",
    "torch.manual_seed(seed)\n",
    "torch.set_default_dtype(torch.float32)\n",
    "warnings.simplefilter('ignore', UserWarning)"
   ]
  },
  {
   "cell_type": "code",
   "execution_count": 2,
   "metadata": {
    "colab": {
     "base_uri": "https://localhost:8080/"
    },
    "execution": {
     "iopub.execute_input": "2025-03-08T04:36:26.260138Z",
     "iopub.status.busy": "2025-03-08T04:36:26.259650Z",
     "iopub.status.idle": "2025-03-08T04:36:26.500282Z",
     "shell.execute_reply": "2025-03-08T04:36:26.499875Z"
    },
    "id": "9rEyke1quwOa",
    "outputId": "b5ce88a4-4736-423f-835f-a93a3560be5b"
   },
   "outputs": [],
   "source": [
    "import torchquantum as tq\n",
    "from torchquantum.measurement import expval_joint_analytical"
   ]
  },
  {
   "cell_type": "code",
   "execution_count": 3,
   "metadata": {
    "execution": {
     "iopub.execute_input": "2025-03-08T04:36:26.502548Z",
     "iopub.status.busy": "2025-03-08T04:36:26.502189Z",
     "iopub.status.idle": "2025-03-08T04:36:26.504772Z",
     "shell.execute_reply": "2025-03-08T04:36:26.504396Z"
    }
   },
   "outputs": [
    {
     "name": "stdout",
     "output_type": "stream",
     "text": [
      "2.5.1+cu124\n",
      "0.1.7\n"
     ]
    }
   ],
   "source": [
    "print(torch.__version__)\n",
    "print(tq.__version__)"
   ]
  },
  {
   "cell_type": "code",
   "execution_count": 4,
   "metadata": {
    "execution": {
     "iopub.execute_input": "2025-03-08T04:36:26.518932Z",
     "iopub.status.busy": "2025-03-08T04:36:26.518558Z",
     "iopub.status.idle": "2025-03-08T04:36:26.538388Z",
     "shell.execute_reply": "2025-03-08T04:36:26.537821Z"
    }
   },
   "outputs": [
    {
     "name": "stdout",
     "output_type": "stream",
     "text": [
      "1\n",
      "['NVIDIA GeForce RTX 4090']\n"
     ]
    }
   ],
   "source": [
    "n_gpu = torch.cuda.device_count()\n",
    "print(n_gpu)\n",
    "device = torch.device(\"cuda:0\" if torch.cuda.is_available() else \"cpu\")\n",
    "# device = \"cpu\"\n",
    "print([torch.cuda.get_device_name('cuda:'+str(i)) for i in range(n_gpu)])"
   ]
  },
  {
   "cell_type": "code",
   "execution_count": 5,
   "metadata": {
    "execution": {
     "iopub.execute_input": "2025-03-08T04:36:26.540120Z",
     "iopub.status.busy": "2025-03-08T04:36:26.539896Z",
     "iopub.status.idle": "2025-03-08T04:36:26.700982Z",
     "shell.execute_reply": "2025-03-08T04:36:26.700294Z"
    }
   },
   "outputs": [
    {
     "name": "stdout",
     "output_type": "stream",
     "text": [
      "torch.Size([60000, 28, 28]) torch.Size([10000, 28, 28])\n"
     ]
    }
   ],
   "source": [
    "data = torchvision.datasets.MNIST(root='./data', train=True, download=True)\n",
    "data_tr, label_tr = data.train_data, data.train_labels\n",
    "data = torchvision.datasets.MNIST(root='./data', train=False, download=True)\n",
    "data_te, label_te = data.test_data, data.test_labels\n",
    "print(data_tr.shape, data_te.shape)"
   ]
  },
  {
   "cell_type": "code",
   "execution_count": 6,
   "metadata": {
    "execution": {
     "iopub.execute_input": "2025-03-08T04:36:26.702640Z",
     "iopub.status.busy": "2025-03-08T04:36:26.702444Z",
     "iopub.status.idle": "2025-03-08T04:36:26.925248Z",
     "shell.execute_reply": "2025-03-08T04:36:26.924563Z"
    }
   },
   "outputs": [
    {
     "data": {
      "image/png": "[encoded data removed]",
      "text/plain": [
       "<Figure size 640x480 with 10 Axes>"
      ]
     },
     "metadata": {},
     "output_type": "display_data"
    }
   ],
   "source": [
    "num = 10\n",
    "for i in range(num):\n",
    "    ax = plt.subplot(2,num//2,i+1)\n",
    "    ax.imshow(data_tr[i].detach().numpy(), cmap='gray_r')"
   ]
  },
  {
   "cell_type": "code",
   "execution_count": 7,
   "metadata": {
    "colab": {
     "base_uri": "https://localhost:8080/"
    },
    "execution": {
     "iopub.execute_input": "2025-03-08T04:36:26.927342Z",
     "iopub.status.busy": "2025-03-08T04:36:26.926929Z",
     "iopub.status.idle": "2025-03-08T04:36:26.929247Z",
     "shell.execute_reply": "2025-03-08T04:36:26.928847Z"
    },
    "id": "1cyWO0H6KHts",
    "outputId": "e1a34cbd-64b0-4d49-b783-23a0860b3484"
   },
   "outputs": [],
   "source": [
    "dataset_name = 'mnist'\n",
    "n_class = len(np.unique(label_tr))"
   ]
  },
  {
   "cell_type": "code",
   "execution_count": 8,
   "metadata": {
    "execution": {
     "iopub.execute_input": "2025-03-08T04:36:26.930906Z",
     "iopub.status.busy": "2025-03-08T04:36:26.930560Z",
     "iopub.status.idle": "2025-03-08T04:36:26.932730Z",
     "shell.execute_reply": "2025-03-08T04:36:26.932296Z"
    }
   },
   "outputs": [],
   "source": [
    "n_qubits = 8\n",
    "n_depth_per_block = 50\n",
    "n_qnn = 4\n",
    "\n",
    "#assert n_qubits%2==0\n",
    "n_half_qubits = n_qubits//2 # 3\n",
    "n_latter_half_qubits = n_qubits-n_half_qubits"
   ]
  },
  {
   "cell_type": "code",
   "execution_count": 9,
   "metadata": {
    "execution": {
     "iopub.execute_input": "2025-03-08T04:36:26.934233Z",
     "iopub.status.busy": "2025-03-08T04:36:26.933989Z",
     "iopub.status.idle": "2025-03-08T04:36:26.936292Z",
     "shell.execute_reply": "2025-03-08T04:36:26.935853Z"
    },
    "id": "1BM-C_Bk9ABt"
   },
   "outputs": [],
   "source": [
    "class ConstCoeffLayer(nn.Module):\n",
    "    def __init__(self, coeff):\n",
    "        super().__init__()\n",
    "        self.coeff = coeff\n",
    "    def forward(self, x):\n",
    "        ret = x * self.coeff\n",
    "        return ret"
   ]
  },
  {
   "cell_type": "code",
   "execution_count": 10,
   "metadata": {
    "execution": {
     "iopub.execute_input": "2025-03-08T04:36:26.937750Z",
     "iopub.status.busy": "2025-03-08T04:36:26.937530Z",
     "iopub.status.idle": "2025-03-08T04:36:26.940945Z",
     "shell.execute_reply": "2025-03-08T04:36:26.940446Z"
    }
   },
   "outputs": [],
   "source": [
    "def calc_exp_val(qdev, obs):\n",
    "    assert len(obs)==n_qubits\n",
    "    state2 = qdev.states.clone()\n",
    "    for i in range(n_qubits):\n",
    "        if obs[i]=='I':\n",
    "            continue\n",
    "        elif obs[i]=='X':\n",
    "            mat = torch.tensor([[0,1],[1,0]])\n",
    "        elif obs[i]=='Y':\n",
    "            mat = torch.tensor([[0,-1j],[1j,0]])\n",
    "        elif obs[i]=='Z':\n",
    "            mat = torch.tensor([[1,0],[0,-1]])\n",
    "        state2 = tq.functional.apply_unitary_bmm(state2, mat, [i])\n",
    "    state1 = qdev.states.clone()\n",
    "    exp_val = torch.einsum(\"bij...k,bij...k->b\", state1.conj(), state2).real\n",
    "    # to confirm the calculation of expectation values\n",
    "    if False:\n",
    "        bra = qdev.get_states_1d().clone().conj()\n",
    "        ket = torch.reshape(state2, [bsz, 2**n_qubits])\n",
    "        tmp_exp_val = torch.sum(bra*ket,dim=1).real # (bsz,dim) => (bsz)\n",
    "        assert np.allclose(tmp_exp_val.detach().cpu().numpy(),exp_val.detach().cpu().numpy(),rtol=1e-5,atol=1e-5)\n",
    "    return exp_val"
   ]
  },
  {
   "cell_type": "code",
   "execution_count": 11,
   "metadata": {
    "execution": {
     "iopub.execute_input": "2025-03-08T04:36:26.942772Z",
     "iopub.status.busy": "2025-03-08T04:36:26.942534Z",
     "iopub.status.idle": "2025-03-08T04:36:26.949261Z",
     "shell.execute_reply": "2025-03-08T04:36:26.948855Z"
    }
   },
   "outputs": [],
   "source": [
    "# 14x14 => 7x14x2\n",
    "# 2n_qubitsx28 => 14x7x8 = 14x28x2\n",
    "class QNNsubModel(nn.Module):\n",
    "    def __init__(self):\n",
    "        # params is numpy array\n",
    "        super().__init__()\n",
    "\n",
    "    def forward(self, x, phi):\n",
    "        bsz, nx_features = x.shape\n",
    "        qdev = tq.QuantumDevice(\n",
    "            n_wires=n_qubits, bsz = bsz, device=x.device, record_op=False\n",
    "        )\n",
    "        for k in range(n_depth_per_block):\n",
    "            # j = 2*d*n_depth_per_block + 2*k\n",
    "            for i in range(n_qubits):\n",
    "                tq.functional.rx(qdev, wires=i, params=phi[i+2*k*n_qubits])\n",
    "            for i in range(n_qubits):\n",
    "                tq.functional.ry(qdev, wires=i, params=phi[i+(2*k+1)*n_qubits])\n",
    "            for i in range(n_qubits):\n",
    "                qdev.cz(wires=[i,(i+1)%n_qubits])\n",
    "        for i in range(n_qubits): # x: 32, phi: 64\n",
    "            for j in range(n_half_qubits):\n",
    "                if j%2==0:\n",
    "                    tq.functional.ry(qdev, wires=i, params=phi[2*n_half_qubits*i+2*j+2*n_depth_per_block*n_qubits])\n",
    "                    tq.functional.rx(qdev, wires=i, params=x[:,n_half_qubits*i+j]) ##\n",
    "                    tq.functional.ry(qdev, wires=i, params=phi[2*n_half_qubits*i+2*j+1+2*n_depth_per_block*n_qubits])\n",
    "                else:\n",
    "                    tq.functional.rx(qdev, wires=i, params=phi[2*n_half_qubits*i+2*j+2*n_depth_per_block*n_qubits])\n",
    "                    tq.functional.ry(qdev, wires=i, params=x[:,n_half_qubits*i+j]) ##\n",
    "                    tq.functional.rx(qdev, wires=i, params=phi[2*n_half_qubits*i+2*j+1+2*n_depth_per_block*n_qubits])\n",
    "        for i in range(n_qubits):\n",
    "            qdev.cz(wires=[i,(i+1)%(n_qubits)])\n",
    "        for k in range(n_depth_per_block):\n",
    "            # j = 2*d*n_depth_per_block + 2*k\n",
    "            for i in range(n_qubits):\n",
    "                tq.functional.rx(qdev, wires=i, params=phi[i+(2*n_depth_per_block+2*n_half_qubits +2*k)*n_qubits])\n",
    "            for i in range(n_qubits):\n",
    "                tq.functional.ry(qdev, wires=i, params=phi[i+(2*n_depth_per_block+2*n_half_qubits +2*k+1)*n_qubits])\n",
    "            for i in range(n_qubits):\n",
    "                qdev.cz(wires=[i,(i+1)%n_qubits])\n",
    "        for i in range(n_qubits): # 32, 64\n",
    "            for j in range(n_latter_half_qubits):\n",
    "                if j%2==0:\n",
    "                    tq.functional.ry(qdev, wires=i, params=phi[2*n_latter_half_qubits*i+2*j+2*n_half_qubits*n_qubits+4*n_depth_per_block*n_qubits])\n",
    "                    tq.functional.rx(qdev, wires=i, params=x[:,n_latter_half_qubits*i+j+n_half_qubits*n_qubits]) ##\n",
    "                    tq.functional.ry(qdev, wires=i, params=phi[2*n_latter_half_qubits*i+2*j+1+2*n_half_qubits*n_qubits+4*n_depth_per_block*n_qubits])\n",
    "                else:\n",
    "                    tq.functional.rx(qdev, wires=i, params=phi[2*n_latter_half_qubits*i+2*j+2*n_half_qubits*n_qubits+4*n_depth_per_block*n_qubits])\n",
    "                    tq.functional.ry(qdev, wires=i, params=x[:,n_latter_half_qubits*i+j+n_half_qubits*n_qubits]) ##\n",
    "                    tq.functional.rx(qdev, wires=i, params=phi[2*n_latter_half_qubits*i+2*j+1+2*n_half_qubits*n_qubits+4*n_depth_per_block*n_qubits])\n",
    "        for i in range(n_qubits):\n",
    "            qdev.cz(wires=[i,(i+1)%(n_qubits)])\n",
    "        j= 2\n",
    "        for k in range(n_depth_per_block):\n",
    "            for i in range(n_qubits):\n",
    "                tq.functional.rx(qdev, wires=i, params=phi[i+(4*n_depth_per_block+2*n_qubits +2*k)*n_qubits])\n",
    "            for i in range(n_qubits):\n",
    "                tq.functional.ry(qdev, wires=i, params=phi[i+(4*n_depth_per_block+2*n_qubits +2*k+1)*n_qubits])\n",
    "            if (k==n_depth_per_block-1):\n",
    "                break\n",
    "            for i in range(n_qubits):\n",
    "                qdev.cz(wires=[i,(i+1)%n_qubits])\n",
    "        obs_list = [ calc_exp_val(qdev, \"I\"*i+Pauli+\"I\"*(n_qubits-1-i)) for Pauli in [\"X\",\"Z\"] for i in range(n_class//2)]\n",
    "        ret = torch.stack(obs_list, dim=1)\n",
    "        return ret"
   ]
  },
  {
   "cell_type": "code",
   "execution_count": 12,
   "metadata": {
    "execution": {
     "iopub.execute_input": "2025-03-08T04:36:26.950590Z",
     "iopub.status.busy": "2025-03-08T04:36:26.950398Z",
     "iopub.status.idle": "2025-03-08T04:36:26.953680Z",
     "shell.execute_reply": "2025-03-08T04:36:26.953285Z"
    }
   },
   "outputs": [],
   "source": [
    "# 14x14 => 7x14x2\n",
    "# 1:8, 7:14 -> 0:7, 6:13\n",
    "# 1:8, 4:11, 7:14 -> 0:7, 3:10, 6:13\n",
    "class QNNModel(nn.Module):\n",
    "    def __init__(self):\n",
    "        super().__init__()\n",
    "        self.params_list = nn.ParameterList([torch.rand( (3*2*n_depth_per_block+2*n_qubits)*n_qubits )*math.pi for _ in range(n_qnn)])\n",
    "        self.pos_bias = nn.Parameter( torch.zeros(14, 14, device=device) )\n",
    "        self.qnn_list = [QNNsubModel() for _ in range(n_qnn)]\n",
    "    def forward(self, x):\n",
    "        n_data = len(x)\n",
    "        in_x = x + self.pos_bias\n",
    "        in_x = torch.stack([ in_x[:,i:i+n_qubits,j:j+n_qubits].reshape(n_data,n_qubits*n_qubits) for i in [0,6] for j in [0,6] ], axis=0) # (4,n_data,64)\n",
    "        #ret_list = [checkpoint.checkpoint(self.qnn_list[i], in_x[i], self.params_list[i]) for i in range(n_qnn)]\n",
    "        ret_list = [self.qnn_list[i](in_x[i], self.params_list[i]) for i in range(n_qnn)]\n",
    "        ret = torch.stack(ret_list, axis=1) # (bsz, n_qnn, n_class)\n",
    "        ret = torch.mean(ret, axis=1) # (bsz,n_class)\n",
    "        return ret"
   ]
  },
  {
   "cell_type": "code",
   "execution_count": 13,
   "metadata": {
    "execution": {
     "iopub.execute_input": "2025-03-08T04:36:26.955061Z",
     "iopub.status.busy": "2025-03-08T04:36:26.954874Z",
     "iopub.status.idle": "2025-03-08T04:36:26.957980Z",
     "shell.execute_reply": "2025-03-08T04:36:26.957591Z"
    },
    "id": "vwqhXVC1vMDj"
   },
   "outputs": [],
   "source": [
    "def train(data, label, model, accumulation_steps):\n",
    "    pred = model(data) # (bsz, n_class)\n",
    "    loss = torch.nn.CrossEntropyLoss()(pred, label)\n",
    "    loss = loss / accumulation_steps\n",
    "    loss.backward()\n",
    "    with torch.no_grad():\n",
    "        pred_normalized = nn.functional.softmax(pred, dim=1)\n",
    "        acc = (pred_normalized.argmax(axis=1) == label).sum().item() / len(label)\n",
    "    print(f\"train loss: {loss.item()*accumulation_steps:.5f} train acc: {acc:.3f}\", end='\\n')\n",
    "    return loss.item(), acc\n",
    "\n",
    "def valid(data, label, model):\n",
    "    with torch.no_grad():\n",
    "        pred = model(data)\n",
    "        loss = torch.nn.CrossEntropyLoss()(pred, label)\n",
    "        pred_normalized = nn.functional.softmax(pred, dim=1)\n",
    "        acc = (pred_normalized.argmax(axis=1) == label).sum().item() / len(label)\n",
    "    print(f\"valid loss: {loss.item():.5f} valid acc: {acc:.3f}\", end='\\n')\n",
    "    return loss.item(), acc"
   ]
  },
  {
   "cell_type": "code",
   "execution_count": 14,
   "metadata": {
    "execution": {
     "iopub.execute_input": "2025-03-08T04:36:26.959381Z",
     "iopub.status.busy": "2025-03-08T04:36:26.959173Z",
     "iopub.status.idle": "2025-03-08T04:36:27.042074Z",
     "shell.execute_reply": "2025-03-08T04:36:27.041156Z"
    }
   },
   "outputs": [
    {
     "name": "stdout",
     "output_type": "stream",
     "text": [
      "torch.Size([60000, 14, 14]) torch.Size([10000, 14, 14])\n"
     ]
    }
   ],
   "source": [
    "# normalization: /255*math.pi/n_half_qubits=/255*2*math.pi/n_qubits ??\n",
    "data_tr = data_tr/255*2*math.pi/n_qubits\n",
    "data_te = data_te/255*2*math.pi/n_qubits\n",
    "\n",
    "data_tr = torch.nn.AvgPool2d( (2,2), stride=(2,2) )(data_tr) # (28,28) -> (14,14)\n",
    "data_te = torch.nn.AvgPool2d( (2,2), stride=(2,2) )(data_te) # (28,28) -> (14,14)\n",
    "\n",
    "#data_tr = data_tr.reshape(-1,data_tr.shape[1]*data_tr.shape[2]) #.detach().numpy()\n",
    "#data_te = data_te.reshape(-1,data_te.shape[1]*data_te.shape[2]) #.detach().numpy()\n",
    "print(data_tr.shape, data_te.shape)"
   ]
  },
  {
   "cell_type": "code",
   "execution_count": 15,
   "metadata": {
    "colab": {
     "base_uri": "https://localhost:8080/"
    },
    "execution": {
     "iopub.execute_input": "2025-03-08T04:36:27.044613Z",
     "iopub.status.busy": "2025-03-08T04:36:27.044381Z",
     "iopub.status.idle": "2025-03-08T04:36:27.060405Z",
     "shell.execute_reply": "2025-03-08T04:36:27.060039Z"
    },
    "id": "mj_O5gA1LZMs",
    "outputId": "d3a6fccd-d75d-4265-9c1a-7e8275405cd5"
   },
   "outputs": [],
   "source": [
    "max_epochs = 50\n",
    "coeff=100\n",
    "#data_tr, label_tr = data_tr.to(device), label_tr.to(device)\n",
    "data_te, label_te = data_te.to(device), label_te.to(device)\n",
    "model = torch.nn.Sequential(\n",
    "    QNNModel(),\n",
    "    ConstCoeffLayer(coeff)\n",
    ")\n",
    "\n",
    "# すべての点で求めて、手動で各local minimum の点を選ぶ.\n",
    "dir_name = \"tmp_\"+str(n_qubits)+\"qubits_\"+str(n_qnn)+\"qnn\"\n",
    "if n_depth_per_block>50:\n",
    "    dir_name += str(n_depth_per_block)\n",
    "prefix_name = dataset_name+\"_\"+str(n_qnn)+\"qnn\"+str(n_depth_per_block)+\"_c\"+str(coeff)+\"_\"+str(n_qubits)+\"qubits_ensembling_cos\""
   ]
  },
  {
   "cell_type": "code",
   "execution_count": 16,
   "metadata": {
    "execution": {
     "iopub.execute_input": "2025-03-08T04:36:27.061864Z",
     "iopub.status.busy": "2025-03-08T04:36:27.061661Z",
     "iopub.status.idle": "2025-03-08T04:36:27.067282Z",
     "shell.execute_reply": "2025-03-08T04:36:27.066847Z"
    }
   },
   "outputs": [
    {
     "name": "stdout",
     "output_type": "stream",
     "text": [
      "36 0.0228784587234258\n"
     ]
    }
   ],
   "source": [
    "losses = pd.read_csv(dir_name+'/losses.csv')\n",
    "min_index = losses['train_loss'].argmin()\n",
    "min_epochs = losses['epochs'][min_index]\n",
    "print(min_epochs, losses['train_loss'][min_index])"
   ]
  },
  {
   "cell_type": "code",
   "execution_count": 17,
   "metadata": {
    "execution": {
     "iopub.execute_input": "2025-03-08T04:36:27.068655Z",
     "iopub.status.busy": "2025-03-08T04:36:27.068454Z",
     "iopub.status.idle": "2025-03-08T04:36:27.131088Z",
     "shell.execute_reply": "2025-03-08T04:36:27.130337Z"
    }
   },
   "outputs": [
    {
     "data": {
      "text/plain": [
       "Sequential(\n",
       "  (0): QNNModel(\n",
       "    (params_list): ParameterList(\n",
       "        (0): Parameter containing: [torch.float32 of size 2528 (cuda:0)]\n",
       "        (1): Parameter containing: [torch.float32 of size 2528 (cuda:0)]\n",
       "        (2): Parameter containing: [torch.float32 of size 2528 (cuda:0)]\n",
       "        (3): Parameter containing: [torch.float32 of size 2528 (cuda:0)]\n",
       "    )\n",
       "  )\n",
       "  (1): ConstCoeffLayer()\n",
       ")"
      ]
     },
     "execution_count": 17,
     "metadata": {},
     "output_type": "execute_result"
    }
   ],
   "source": [
    "# hessian_dataloader = (data_tr, label_tr)\n",
    "dataloader = []\n",
    "model = torch.nn.Sequential( QNNModel(), ConstCoeffLayer(coeff))\n",
    "model.load_state_dict(torch.load(dir_name+'/'+prefix_name+'_epoch'+str(min_epochs)+'.pt', weights_only=True))\n",
    "model = model.cuda()\n",
    "\n",
    "tmp_skf = StratifiedKFold(n_splits=200, shuffle=True, random_state=0) # for minibatch training with shuffling the samples\n",
    "for i_fold, (_, tmp_te) in enumerate(tmp_skf.split(data_tr, label_tr)):\n",
    "    dataloader.append( (data_tr[tmp_te].to(device=device), label_tr[tmp_te].to(device=device)) )\n",
    "\n",
    "model.eval()"
   ]
  },
  {
   "cell_type": "code",
   "execution_count": 18,
   "metadata": {
    "execution": {
     "iopub.execute_input": "2025-03-08T04:36:27.132912Z",
     "iopub.status.busy": "2025-03-08T04:36:27.132678Z",
     "iopub.status.idle": "2025-03-08T11:12:54.977678Z",
     "shell.execute_reply": "2025-03-08T11:12:54.976780Z"
    }
   },
   "outputs": [
    {
     "name": "stdout",
     "output_type": "stream",
     "text": [
      "Top Eigenvalues:  [15.987028121948242]\n"
     ]
    }
   ],
   "source": [
    "stime = time.perf_counter()\n",
    "hessian_comp = hessian(model, torch.nn.CrossEntropyLoss(), dataloader=dataloader, cuda=True)\n",
    "top_eigenvalues, top_eigenvector = hessian_comp.eigenvalues(top_n=1)\n",
    "etime = time.perf_counter()\n",
    "print('Top Eigenvalues: ', top_eigenvalues)"
   ]
  },
  {
   "cell_type": "code",
   "execution_count": 19,
   "metadata": {
    "execution": {
     "iopub.execute_input": "2025-03-08T11:12:54.989269Z",
     "iopub.status.busy": "2025-03-08T11:12:54.988886Z",
     "iopub.status.idle": "2025-03-08T11:12:54.992514Z",
     "shell.execute_reply": "2025-03-08T11:12:54.991776Z"
    }
   },
   "outputs": [
    {
     "name": "stdout",
     "output_type": "stream",
     "text": [
      "elapsed time:  23787.841517098015 sec\n"
     ]
    }
   ],
   "source": [
    "print('elapsed time: ', etime-stime, 'sec')"
   ]
  },
  {
   "cell_type": "code",
   "execution_count": null,
   "metadata": {},
   "outputs": [],
   "source": []
  }
 ],
 "metadata": {
  "accelerator": "GPU",
  "colab": {
   "gpuType": "T4",
   "provenance": []
  },
  "kernelspec": {
   "display_name": "Python 3",
   "language": "python",
   "name": "python3"
  },
  "language_info": {
   "codemirror_mode": {
    "name": "ipython",
    "version": 3
   },
   "file_extension": ".py",
   "mimetype": "text/x-python",
   "name": "python",
   "nbconvert_exporter": "python",
   "pygments_lexer": "ipython3",
   "version": "3.10.12"
  }
 },
 "nbformat": 4,
 "nbformat_minor": 4
}
