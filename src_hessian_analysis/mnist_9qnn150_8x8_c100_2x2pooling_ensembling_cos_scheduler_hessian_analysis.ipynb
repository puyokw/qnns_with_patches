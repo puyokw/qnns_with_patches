{
 "cells": [
  {
   "cell_type": "code",
   "execution_count": 1,
   "metadata": {
    "execution": {
     "iopub.execute_input": "2025-02-26T04:05:02.789301Z",
     "iopub.status.busy": "2025-02-26T04:05:02.789044Z",
     "iopub.status.idle": "2025-02-26T04:05:03.765455Z",
     "shell.execute_reply": "2025-02-26T04:05:03.765131Z"
    },
    "scrolled": true
   },
   "outputs": [
    {
     "name": "stdout",
     "output_type": "stream",
     "text": [
      "Defaulting to user installation because normal site-packages is not writeable\r\n"
     ]
    },
    {
     "name": "stdout",
     "output_type": "stream",
     "text": [
      "Requirement already satisfied: matplotlib==3.10.0 in /home/ubuntu/.local/lib/python3.10/site-packages (from -r requirements_for_gh200.txt (line 1)) (3.10.0)\r\n",
      "Requirement already satisfied: matplotlib-inline==0.1.7 in /home/ubuntu/.local/lib/python3.10/site-packages (from -r requirements_for_gh200.txt (line 2)) (0.1.7)\r\n",
      "Requirement already satisfied: numpy==1.26.0 in /home/ubuntu/.local/lib/python3.10/site-packages (from -r requirements_for_gh200.txt (line 3)) (1.26.0)\r\n",
      "Requirement already satisfied: nvidia-cublas-cu12==12.4.5.8 in /home/ubuntu/.local/lib/python3.10/site-packages (from -r requirements_for_gh200.txt (line 4)) (12.4.5.8)\r\n",
      "Requirement already satisfied: nvidia-cuda-cupti-cu12==12.4.127 in /home/ubuntu/.local/lib/python3.10/site-packages (from -r requirements_for_gh200.txt (line 5)) (12.4.127)\r\n",
      "Requirement already satisfied: nvidia-cuda-nvrtc-cu12==12.4.127 in /home/ubuntu/.local/lib/python3.10/site-packages (from -r requirements_for_gh200.txt (line 6)) (12.4.127)\r\n",
      "Requirement already satisfied: nvidia-cuda-runtime-cu12==12.4.127 in /home/ubuntu/.local/lib/python3.10/site-packages (from -r requirements_for_gh200.txt (line 7)) (12.4.127)\r\n",
      "Requirement already satisfied: nvidia-cudnn-cu12==9.1.0.70.post1 in /home/ubuntu/.local/lib/python3.10/site-packages (from -r requirements_for_gh200.txt (line 8)) (9.1.0.70.post1)\r\n",
      "Requirement already satisfied: nvidia-cufft-cu12==11.2.1.3 in /home/ubuntu/.local/lib/python3.10/site-packages (from -r requirements_for_gh200.txt (line 9)) (11.2.1.3)\r\n",
      "Requirement already satisfied: nvidia-curand-cu12==10.3.5.147 in /home/ubuntu/.local/lib/python3.10/site-packages (from -r requirements_for_gh200.txt (line 10)) (10.3.5.147)\r\n",
      "Requirement already satisfied: nvidia-cusolver-cu12==11.6.1.9 in /home/ubuntu/.local/lib/python3.10/site-packages (from -r requirements_for_gh200.txt (line 11)) (11.6.1.9)\r\n",
      "Requirement already satisfied: nvidia-cusparse-cu12==12.3.1.170 in /home/ubuntu/.local/lib/python3.10/site-packages (from -r requirements_for_gh200.txt (line 12)) (12.3.1.170)\r\n",
      "Requirement already satisfied: nvidia-nccl-cu12==2.23.4 in /home/ubuntu/.local/lib/python3.10/site-packages (from -r requirements_for_gh200.txt (line 13)) (2.23.4)\r\n",
      "Requirement already satisfied: nvidia-nvjitlink-cu12==12.4.127 in /home/ubuntu/.local/lib/python3.10/site-packages (from -r requirements_for_gh200.txt (line 14)) (12.4.127)\r\n",
      "Requirement already satisfied: nvidia-nvtx-cu12==12.4.127 in /home/ubuntu/.local/lib/python3.10/site-packages (from -r requirements_for_gh200.txt (line 15)) (12.4.127)\r\n",
      "Requirement already satisfied: opt_einsum==3.4.0 in /home/ubuntu/.local/lib/python3.10/site-packages (from -r requirements_for_gh200.txt (line 16)) (3.4.0)\r\n",
      "Requirement already satisfied: pandas==2.2.3 in /home/ubuntu/.local/lib/python3.10/site-packages (from -r requirements_for_gh200.txt (line 17)) (2.2.3)\r\n",
      "Requirement already satisfied: pylatexenc==2.10 in /home/ubuntu/.local/lib/python3.10/site-packages (from -r requirements_for_gh200.txt (line 18)) (2.10)\r\n",
      "Requirement already satisfied: qiskit==0.38.0 in /home/ubuntu/.local/lib/python3.10/site-packages (from -r requirements_for_gh200.txt (line 19)) (0.38.0)\r\n",
      "Requirement already satisfied: qiskit-aer==0.11.0 in /home/ubuntu/.local/lib/python3.10/site-packages (from -r requirements_for_gh200.txt (line 20)) (0.11.0)\r\n",
      "Requirement already satisfied: qiskit-ibmq-provider==0.19.2 in /home/ubuntu/.local/lib/python3.10/site-packages (from -r requirements_for_gh200.txt (line 21)) (0.19.2)\r\n",
      "Requirement already satisfied: qiskit-terra==0.21.2 in /home/ubuntu/.local/lib/python3.10/site-packages (from -r requirements_for_gh200.txt (line 22)) (0.21.2)\r\n",
      "Requirement already satisfied: scikit-learn==1.6.0 in /home/ubuntu/.local/lib/python3.10/site-packages (from -r requirements_for_gh200.txt (line 23)) (1.6.0)\r\n",
      "Requirement already satisfied: scipy==1.13.1 in /home/ubuntu/.local/lib/python3.10/site-packages (from -r requirements_for_gh200.txt (line 24)) (1.13.1)\r\n",
      "Requirement already satisfied: seaborn==0.13.2 in /home/ubuntu/.local/lib/python3.10/site-packages (from -r requirements_for_gh200.txt (line 25)) (0.13.2)\r\n",
      "Requirement already satisfied: sympy==1.13.1 in /home/ubuntu/.local/lib/python3.10/site-packages (from -r requirements_for_gh200.txt (line 26)) (1.13.1)\r\n",
      "Requirement already satisfied: torch==2.5.1 in /usr/lib/python3/dist-packages (from -r requirements_for_gh200.txt (line 27)) (2.5.1)\r\n",
      "Requirement already satisfied: torchquantum==0.1.7 in /home/ubuntu/.local/lib/python3.10/site-packages (from -r requirements_for_gh200.txt (line 28)) (0.1.7)\r\n",
      "Requirement already satisfied: torchvision==0.20.1 in /usr/lib/python3/dist-packages (from -r requirements_for_gh200.txt (line 29)) (0.20.1)\r\n",
      "Requirement already satisfied: PyHessian==0.1 in /home/ubuntu/.local/lib/python3.10/site-packages (from -r requirements_for_gh200.txt (line 30)) (0.1)\r\n",
      "Requirement already satisfied: python-dateutil>=2.7 in /home/ubuntu/.local/lib/python3.10/site-packages (from matplotlib==3.10.0->-r requirements_for_gh200.txt (line 1)) (2.9.0.post0)\r\n",
      "Requirement already satisfied: contourpy>=1.0.1 in /home/ubuntu/.local/lib/python3.10/site-packages (from matplotlib==3.10.0->-r requirements_for_gh200.txt (line 1)) (1.3.1)\r\n",
      "Requirement already satisfied: cycler>=0.10 in /usr/lib/python3/dist-packages (from matplotlib==3.10.0->-r requirements_for_gh200.txt (line 1)) (0.11.0)\r\n",
      "Requirement already satisfied: fonttools>=4.22.0 in /usr/lib/python3/dist-packages (from matplotlib==3.10.0->-r requirements_for_gh200.txt (line 1)) (4.29.1)\r\n",
      "Requirement already satisfied: kiwisolver>=1.3.1 in /usr/lib/python3/dist-packages (from matplotlib==3.10.0->-r requirements_for_gh200.txt (line 1)) (1.3.2)\r\n",
      "Requirement already satisfied: packaging>=20.0 in /usr/lib/python3/dist-packages (from matplotlib==3.10.0->-r requirements_for_gh200.txt (line 1)) (21.3)\r\n",
      "Requirement already satisfied: pillow>=8 in /usr/lib/python3/dist-packages (from matplotlib==3.10.0->-r requirements_for_gh200.txt (line 1)) (9.0.1)\r\n",
      "Requirement already satisfied: pyparsing>=2.3.1 in /usr/lib/python3/dist-packages (from matplotlib==3.10.0->-r requirements_for_gh200.txt (line 1)) (2.4.7)\r\n",
      "Requirement already satisfied: traitlets in /usr/lib/python3/dist-packages (from matplotlib-inline==0.1.7->-r requirements_for_gh200.txt (line 2)) (5.1.1)\r\n"
     ]
    },
    {
     "name": "stdout",
     "output_type": "stream",
     "text": [
      "Requirement already satisfied: pytz>=2020.1 in /usr/lib/python3/dist-packages (from pandas==2.2.3->-r requirements_for_gh200.txt (line 17)) (2022.1)\r\n",
      "Requirement already satisfied: tzdata>=2022.7 in /home/ubuntu/.local/lib/python3.10/site-packages (from pandas==2.2.3->-r requirements_for_gh200.txt (line 17)) (2025.1)\r\n"
     ]
    },
    {
     "name": "stdout",
     "output_type": "stream",
     "text": [
      "Requirement already satisfied: requests-ntlm>=1.1.0 in /home/ubuntu/.local/lib/python3.10/site-packages (from qiskit-ibmq-provider==0.19.2->-r requirements_for_gh200.txt (line 21)) (1.3.0)\r\n",
      "Requirement already satisfied: urllib3>=1.21.1 in /usr/lib/python3/dist-packages (from qiskit-ibmq-provider==0.19.2->-r requirements_for_gh200.txt (line 21)) (1.26.5)\r\n",
      "Requirement already satisfied: requests>=2.19 in /usr/lib/python3/dist-packages (from qiskit-ibmq-provider==0.19.2->-r requirements_for_gh200.txt (line 21)) (2.25.1)\r\n",
      "Requirement already satisfied: websocket-client>=1.0.1 in /usr/lib/python3/dist-packages (from qiskit-ibmq-provider==0.19.2->-r requirements_for_gh200.txt (line 21)) (1.2.3)\r\n",
      "Requirement already satisfied: websockets>=10.0 in /home/ubuntu/.local/lib/python3.10/site-packages (from qiskit-ibmq-provider==0.19.2->-r requirements_for_gh200.txt (line 21)) (15.0)\r\n",
      "Requirement already satisfied: stevedore>=3.0.0 in /home/ubuntu/.local/lib/python3.10/site-packages (from qiskit-terra==0.21.2->-r requirements_for_gh200.txt (line 22)) (5.4.1)\r\n",
      "Requirement already satisfied: retworkx>=0.11.0 in /home/ubuntu/.local/lib/python3.10/site-packages (from qiskit-terra==0.21.2->-r requirements_for_gh200.txt (line 22)) (0.16.0)\r\n",
      "Requirement already satisfied: dill>=0.3 in /home/ubuntu/.local/lib/python3.10/site-packages (from qiskit-terra==0.21.2->-r requirements_for_gh200.txt (line 22)) (0.3.4)\r\n",
      "Requirement already satisfied: symengine>=0.9 in /home/ubuntu/.local/lib/python3.10/site-packages (from qiskit-terra==0.21.2->-r requirements_for_gh200.txt (line 22)) (0.14.0)\r\n",
      "Requirement already satisfied: psutil>=5 in /usr/lib/python3/dist-packages (from qiskit-terra==0.21.2->-r requirements_for_gh200.txt (line 22)) (5.9.0)\r\n",
      "Requirement already satisfied: tweedledum<2.0,>=1.1 in /home/ubuntu/.local/lib/python3.10/site-packages (from qiskit-terra==0.21.2->-r requirements_for_gh200.txt (line 22)) (1.1.1)\r\n",
      "Requirement already satisfied: ply>=3.10 in /usr/lib/python3/dist-packages (from qiskit-terra==0.21.2->-r requirements_for_gh200.txt (line 22)) (3.11)\r\n"
     ]
    },
    {
     "name": "stdout",
     "output_type": "stream",
     "text": [
      "Requirement already satisfied: threadpoolctl>=3.1.0 in /usr/lib/python3/dist-packages (from scikit-learn==1.6.0->-r requirements_for_gh200.txt (line 23)) (3.1.0)\r\n",
      "Requirement already satisfied: joblib>=1.2.0 in /home/ubuntu/.local/lib/python3.10/site-packages (from scikit-learn==1.6.0->-r requirements_for_gh200.txt (line 23)) (1.4.2)\r\n",
      "Requirement already satisfied: mpmath<1.4,>=1.1.0 in /home/ubuntu/.local/lib/python3.10/site-packages (from sympy==1.13.1->-r requirements_for_gh200.txt (line 26)) (1.3.0)\r\n",
      "Requirement already satisfied: torchpack>=0.3.0 in /home/ubuntu/.local/lib/python3.10/site-packages (from torchquantum==0.1.7->-r requirements_for_gh200.txt (line 28)) (0.3.1)\r\n"
     ]
    },
    {
     "name": "stdout",
     "output_type": "stream",
     "text": [
      "Requirement already satisfied: pathos>=0.2.7 in /home/ubuntu/.local/lib/python3.10/site-packages (from torchquantum==0.1.7->-r requirements_for_gh200.txt (line 28)) (0.2.8)\r\n",
      "Requirement already satisfied: tqdm>=4.56.0 in /home/ubuntu/.local/lib/python3.10/site-packages (from torchquantum==0.1.7->-r requirements_for_gh200.txt (line 28)) (4.67.1)\r\n",
      "Requirement already satisfied: setuptools>=52.0.0 in /usr/lib/python3/dist-packages (from torchquantum==0.1.7->-r requirements_for_gh200.txt (line 28)) (59.6.0)\r\n",
      "Requirement already satisfied: ppft>=1.6.6.4 in /home/ubuntu/.local/lib/python3.10/site-packages (from pathos>=0.2.7->torchquantum==0.1.7->-r requirements_for_gh200.txt (line 28)) (1.7.6.9)\r\n",
      "Requirement already satisfied: multiprocess>=0.70.12 in /home/ubuntu/.local/lib/python3.10/site-packages (from pathos>=0.2.7->torchquantum==0.1.7->-r requirements_for_gh200.txt (line 28)) (0.70.12.2)\r\n",
      "Requirement already satisfied: pox>=0.3.0 in /home/ubuntu/.local/lib/python3.10/site-packages (from pathos>=0.2.7->torchquantum==0.1.7->-r requirements_for_gh200.txt (line 28)) (0.3.5)\r\n",
      "Requirement already satisfied: six>=1.5 in /usr/lib/python3/dist-packages (from python-dateutil>=2.7->matplotlib==3.10.0->-r requirements_for_gh200.txt (line 1)) (1.16.0)\r\n"
     ]
    },
    {
     "name": "stdout",
     "output_type": "stream",
     "text": [
      "Requirement already satisfied: cryptography>=1.3 in /usr/lib/python3/dist-packages (from requests-ntlm>=1.1.0->qiskit-ibmq-provider==0.19.2->-r requirements_for_gh200.txt (line 21)) (3.4.8)\r\n",
      "Requirement already satisfied: pyspnego>=0.4.0 in /home/ubuntu/.local/lib/python3.10/site-packages (from requests-ntlm>=1.1.0->qiskit-ibmq-provider==0.19.2->-r requirements_for_gh200.txt (line 21)) (0.11.2)\r\n",
      "Requirement already satisfied: rustworkx==0.16.0 in /home/ubuntu/.local/lib/python3.10/site-packages (from retworkx>=0.11.0->qiskit-terra==0.21.2->-r requirements_for_gh200.txt (line 22)) (0.16.0)\r\n",
      "Requirement already satisfied: pbr>=2.0.0 in /home/ubuntu/.local/lib/python3.10/site-packages (from stevedore>=3.0.0->qiskit-terra==0.21.2->-r requirements_for_gh200.txt (line 22)) (6.1.1)\r\n",
      "Requirement already satisfied: multimethod in /home/ubuntu/.local/lib/python3.10/site-packages (from torchpack>=0.3.0->torchquantum==0.1.7->-r requirements_for_gh200.txt (line 28)) (2.0)\r\n",
      "Requirement already satisfied: tensorboard in /usr/lib/python3/dist-packages (from torchpack>=0.3.0->torchquantum==0.1.7->-r requirements_for_gh200.txt (line 28)) (2.18.0)\r\n",
      "Requirement already satisfied: loguru in /home/ubuntu/.local/lib/python3.10/site-packages (from torchpack>=0.3.0->torchquantum==0.1.7->-r requirements_for_gh200.txt (line 28)) (0.7.3)\r\n",
      "Requirement already satisfied: tensorpack in /home/ubuntu/.local/lib/python3.10/site-packages (from torchpack>=0.3.0->torchquantum==0.1.7->-r requirements_for_gh200.txt (line 28)) (0.11)\r\n",
      "Requirement already satisfied: pyyaml in /usr/lib/python3/dist-packages (from torchpack>=0.3.0->torchquantum==0.1.7->-r requirements_for_gh200.txt (line 28)) (5.4.1)\r\n",
      "Requirement already satisfied: toml in /home/ubuntu/.local/lib/python3.10/site-packages (from torchpack>=0.3.0->torchquantum==0.1.7->-r requirements_for_gh200.txt (line 28)) (0.10.2)\r\n",
      "Requirement already satisfied: h5py in /usr/lib/python3/dist-packages (from torchpack>=0.3.0->torchquantum==0.1.7->-r requirements_for_gh200.txt (line 28)) (3.6.0)\r\n"
     ]
    },
    {
     "name": "stdout",
     "output_type": "stream",
     "text": [
      "Requirement already satisfied: msgpack>=0.5.2 in /usr/lib/python3/dist-packages (from tensorpack->torchpack>=0.3.0->torchquantum==0.1.7->-r requirements_for_gh200.txt (line 28)) (1.0.3)\r\n",
      "Requirement already satisfied: termcolor>=1.1 in /usr/lib/python3/dist-packages (from tensorpack->torchpack>=0.3.0->torchquantum==0.1.7->-r requirements_for_gh200.txt (line 28)) (1.1.0)\r\n"
     ]
    },
    {
     "name": "stdout",
     "output_type": "stream",
     "text": [
      "Requirement already satisfied: pyzmq>=16 in /usr/lib/python3/dist-packages (from tensorpack->torchpack>=0.3.0->torchquantum==0.1.7->-r requirements_for_gh200.txt (line 28)) (22.3.0)\r\n",
      "Requirement already satisfied: msgpack-numpy>=0.4.4.2 in /home/ubuntu/.local/lib/python3.10/site-packages (from tensorpack->torchpack>=0.3.0->torchquantum==0.1.7->-r requirements_for_gh200.txt (line 28)) (0.4.8)\r\n",
      "Requirement already satisfied: tabulate>=0.7.7 in /home/ubuntu/.local/lib/python3.10/site-packages (from tensorpack->torchpack>=0.3.0->torchquantum==0.1.7->-r requirements_for_gh200.txt (line 28)) (0.9.0)\r\n"
     ]
    }
   ],
   "source": [
    "!pip install -r requirements_for_gh200.txt"
   ]
  },
  {
   "cell_type": "code",
   "execution_count": 2,
   "metadata": {
    "execution": {
     "iopub.execute_input": "2025-02-26T04:05:03.767236Z",
     "iopub.status.busy": "2025-02-26T04:05:03.766921Z",
     "iopub.status.idle": "2025-02-26T04:05:05.846569Z",
     "shell.execute_reply": "2025-02-26T04:05:05.846155Z"
    }
   },
   "outputs": [
    {
     "name": "stderr",
     "output_type": "stream",
     "text": [
      "/home/ubuntu/.local/lib/python3.10/site-packages/matplotlib/projections/__init__.py:63: UserWarning: Unable to import Axes3D. This may be due to multiple versions of Matplotlib being installed (e.g. as a system package and as a pip package). As a result, the 3D projection is not available.\n",
      "  warnings.warn(\"Unable to import Axes3D. This may be due to multiple versions of \"\n"
     ]
    }
   ],
   "source": [
    "# -*- coding: utf-8 -*-\n",
    "%matplotlib inline\n",
    "import matplotlib.pyplot as plt\n",
    "\n",
    "import math\n",
    "import numpy as np\n",
    "import pandas as pd\n",
    "#import seaborn as sns\n",
    "\n",
    "#from sklearn.metrics import accuracy_score, log_loss\n",
    "from sklearn.model_selection import StratifiedKFold\n",
    "\n",
    "import torch\n",
    "import torch.nn as nn\n",
    "from torch.optim import Adam, SGD\n",
    "import torch.utils.checkpoint as checkpoint\n",
    "\n",
    "import torchvision\n",
    "from torchvision.transforms import v2\n",
    "\n",
    "import warnings\n",
    "import time\n",
    "import functools\n",
    "import copy\n",
    "#from tqdm import tqdm\n",
    "\n",
    "from pyhessian import hessian\n",
    "\n",
    "seed = 1001\n",
    "np.random.seed(seed)\n",
    "torch.manual_seed(seed)\n",
    "torch.set_default_dtype(torch.float32)\n",
    "warnings.simplefilter('ignore', UserWarning)"
   ]
  },
  {
   "cell_type": "code",
   "execution_count": 3,
   "metadata": {
    "colab": {
     "base_uri": "https://localhost:8080/"
    },
    "execution": {
     "iopub.execute_input": "2025-02-26T04:05:05.848755Z",
     "iopub.status.busy": "2025-02-26T04:05:05.848491Z",
     "iopub.status.idle": "2025-02-26T04:05:06.133165Z",
     "shell.execute_reply": "2025-02-26T04:05:06.132777Z"
    },
    "id": "9rEyke1quwOa",
    "outputId": "b5ce88a4-4736-423f-835f-a93a3560be5b"
   },
   "outputs": [],
   "source": [
    "import torchquantum as tq\n",
    "from torchquantum.measurement import expval_joint_analytical"
   ]
  },
  {
   "cell_type": "code",
   "execution_count": 4,
   "metadata": {
    "execution": {
     "iopub.execute_input": "2025-02-26T04:05:06.135505Z",
     "iopub.status.busy": "2025-02-26T04:05:06.135171Z",
     "iopub.status.idle": "2025-02-26T04:05:06.137514Z",
     "shell.execute_reply": "2025-02-26T04:05:06.137208Z"
    }
   },
   "outputs": [
    {
     "name": "stdout",
     "output_type": "stream",
     "text": [
      "2.5.1\n",
      "0.1.7\n"
     ]
    }
   ],
   "source": [
    "print(torch.__version__)\n",
    "print(tq.__version__)"
   ]
  },
  {
   "cell_type": "code",
   "execution_count": 5,
   "metadata": {
    "execution": {
     "iopub.execute_input": "2025-02-26T04:05:06.138954Z",
     "iopub.status.busy": "2025-02-26T04:05:06.138721Z",
     "iopub.status.idle": "2025-02-26T04:05:06.320649Z",
     "shell.execute_reply": "2025-02-26T04:05:06.320341Z"
    }
   },
   "outputs": [
    {
     "name": "stdout",
     "output_type": "stream",
     "text": [
      "1\n",
      "['NVIDIA GH200 480GB']\n"
     ]
    }
   ],
   "source": [
    "n_gpu = torch.cuda.device_count()\n",
    "print(n_gpu)\n",
    "device = torch.device(\"cuda:0\" if torch.cuda.is_available() else \"cpu\")\n",
    "# device = \"cpu\"\n",
    "print([torch.cuda.get_device_name('cuda:'+str(i)) for i in range(n_gpu)])"
   ]
  },
  {
   "cell_type": "code",
   "execution_count": 6,
   "metadata": {
    "execution": {
     "iopub.execute_input": "2025-02-26T04:05:06.322264Z",
     "iopub.status.busy": "2025-02-26T04:05:06.321957Z",
     "iopub.status.idle": "2025-02-26T04:05:06.354715Z",
     "shell.execute_reply": "2025-02-26T04:05:06.354384Z"
    }
   },
   "outputs": [
    {
     "name": "stdout",
     "output_type": "stream",
     "text": [
      "torch.Size([60000, 28, 28]) torch.Size([10000, 28, 28])\n"
     ]
    }
   ],
   "source": [
    "data = torchvision.datasets.MNIST(root='./data', train=True, download=True)\n",
    "data_tr, label_tr = data.train_data, data.train_labels\n",
    "data = torchvision.datasets.MNIST(root='./data', train=False, download=True)\n",
    "data_te, label_te = data.test_data, data.test_labels\n",
    "print(data_tr.shape, data_te.shape)"
   ]
  },
  {
   "cell_type": "code",
   "execution_count": 7,
   "metadata": {
    "colab": {
     "base_uri": "https://localhost:8080/"
    },
    "execution": {
     "iopub.execute_input": "2025-02-26T04:05:06.356368Z",
     "iopub.status.busy": "2025-02-26T04:05:06.356083Z",
     "iopub.status.idle": "2025-02-26T04:05:06.358952Z",
     "shell.execute_reply": "2025-02-26T04:05:06.358689Z"
    },
    "id": "1cyWO0H6KHts",
    "outputId": "e1a34cbd-64b0-4d49-b783-23a0860b3484"
   },
   "outputs": [],
   "source": [
    "dataset_name = 'mnist'\n",
    "n_class = len(np.unique(label_tr))"
   ]
  },
  {
   "cell_type": "code",
   "execution_count": 8,
   "metadata": {
    "execution": {
     "iopub.execute_input": "2025-02-26T04:05:06.360371Z",
     "iopub.status.busy": "2025-02-26T04:05:06.360077Z",
     "iopub.status.idle": "2025-02-26T04:05:06.361948Z",
     "shell.execute_reply": "2025-02-26T04:05:06.361695Z"
    }
   },
   "outputs": [],
   "source": [
    "n_qubits = 8\n",
    "n_depth_per_block = 150\n",
    "n_qnn = 9\n",
    "\n",
    "#assert n_qubits%2==0\n",
    "n_half_qubits = n_qubits//2\n",
    "n_latter_half_qubits = n_qubits-n_half_qubits"
   ]
  },
  {
   "cell_type": "code",
   "execution_count": 9,
   "metadata": {
    "execution": {
     "iopub.execute_input": "2025-02-26T04:05:06.363260Z",
     "iopub.status.busy": "2025-02-26T04:05:06.363025Z",
     "iopub.status.idle": "2025-02-26T04:05:06.365096Z",
     "shell.execute_reply": "2025-02-26T04:05:06.364817Z"
    },
    "id": "1BM-C_Bk9ABt"
   },
   "outputs": [],
   "source": [
    "class ConstCoeffLayer(nn.Module):\n",
    "    def __init__(self, coeff):\n",
    "        super().__init__()\n",
    "        self.coeff = coeff\n",
    "    def forward(self, x):\n",
    "        ret = x * self.coeff\n",
    "        return ret"
   ]
  },
  {
   "cell_type": "code",
   "execution_count": 10,
   "metadata": {
    "execution": {
     "iopub.execute_input": "2025-02-26T04:05:06.366361Z",
     "iopub.status.busy": "2025-02-26T04:05:06.366162Z",
     "iopub.status.idle": "2025-02-26T04:05:06.369548Z",
     "shell.execute_reply": "2025-02-26T04:05:06.369283Z"
    }
   },
   "outputs": [],
   "source": [
    "def calc_exp_val(qdev, obs):\n",
    "    assert len(obs)==n_qubits\n",
    "    state2 = qdev.states.clone()\n",
    "    for i in range(n_qubits):\n",
    "        if obs[i]=='I':\n",
    "            continue\n",
    "        elif obs[i]=='X':\n",
    "            mat = torch.tensor([[0,1],[1,0]])\n",
    "        elif obs[i]=='Y':\n",
    "            mat = torch.tensor([[0,-1j],[1j,0]])\n",
    "        elif obs[i]=='Z':\n",
    "            mat = torch.tensor([[1,0],[0,-1]])\n",
    "        state2 = tq.functional.apply_unitary_bmm(state2, mat, [i])\n",
    "    state1 = qdev.states.clone()\n",
    "    exp_val = torch.einsum(\"bij...k,bij...k->b\", state1.conj(), state2).real\n",
    "    # to confirm the calculation of expectation values\n",
    "    if False:\n",
    "        bra = qdev.get_states_1d().clone().conj()\n",
    "        ket = torch.reshape(state2, [bsz, 2**n_qubits])\n",
    "        tmp_exp_val = torch.sum(bra*ket,dim=1).real # (bsz,dim) => (bsz)\n",
    "        assert np.allclose(tmp_exp_val.detach().cpu().numpy(),exp_val.detach().cpu().numpy(),rtol=1e-5,atol=1e-5)\n",
    "    return exp_val"
   ]
  },
  {
   "cell_type": "code",
   "execution_count": 11,
   "metadata": {
    "execution": {
     "iopub.execute_input": "2025-02-26T04:05:06.370822Z",
     "iopub.status.busy": "2025-02-26T04:05:06.370645Z",
     "iopub.status.idle": "2025-02-26T04:05:06.378214Z",
     "shell.execute_reply": "2025-02-26T04:05:06.377950Z"
    }
   },
   "outputs": [],
   "source": [
    "# 14x14 => 7x14x2\n",
    "# 2n_qubitsx28 => 14x7x8 = 14x28x2\n",
    "class QNNsubModel(nn.Module):\n",
    "    def __init__(self):\n",
    "        # params is numpy array\n",
    "        super().__init__()\n",
    "\n",
    "    def forward(self, x, phi):\n",
    "        bsz, nx_features = x.shape\n",
    "        qdev = tq.QuantumDevice(\n",
    "            n_wires=n_qubits, bsz = bsz, device=x.device, record_op=False\n",
    "        )\n",
    "        for k in range(n_depth_per_block):\n",
    "            # j = 2*d*n_depth_per_block + 2*k\n",
    "            for i in range(n_qubits):\n",
    "                tq.functional.rx(qdev, wires=i, params=phi[i+2*k*n_qubits])\n",
    "            for i in range(n_qubits):\n",
    "                tq.functional.ry(qdev, wires=i, params=phi[i+(2*k+1)*n_qubits])\n",
    "            for i in range(n_qubits):\n",
    "                qdev.cz(wires=[i,(i+1)%n_qubits])\n",
    "        for i in range(n_qubits): # x: 32, phi: 64\n",
    "            for j in range(n_half_qubits):\n",
    "                if j%2==0:\n",
    "                    tq.functional.ry(qdev, wires=i, params=phi[2*n_half_qubits*i+2*j+2*n_depth_per_block*n_qubits])\n",
    "                    tq.functional.rx(qdev, wires=i, params=x[:,n_half_qubits*i+j]) ##\n",
    "                    tq.functional.ry(qdev, wires=i, params=phi[2*n_half_qubits*i+2*j+1+2*n_depth_per_block*n_qubits])\n",
    "                else:\n",
    "                    tq.functional.rx(qdev, wires=i, params=phi[2*n_half_qubits*i+2*j+2*n_depth_per_block*n_qubits])\n",
    "                    tq.functional.ry(qdev, wires=i, params=x[:,n_half_qubits*i+j]) ##\n",
    "                    tq.functional.rx(qdev, wires=i, params=phi[2*n_half_qubits*i+2*j+1+2*n_depth_per_block*n_qubits])\n",
    "        for i in range(n_qubits):\n",
    "            qdev.cz(wires=[i,(i+1)%(n_qubits)])\n",
    "        for k in range(n_depth_per_block):\n",
    "            # j = 2*d*n_depth_per_block + 2*k\n",
    "            for i in range(n_qubits):\n",
    "                tq.functional.rx(qdev, wires=i, params=phi[i+(2*n_depth_per_block+2*n_half_qubits +2*k)*n_qubits])\n",
    "            for i in range(n_qubits):\n",
    "                tq.functional.ry(qdev, wires=i, params=phi[i+(2*n_depth_per_block+2*n_half_qubits +2*k+1)*n_qubits])\n",
    "            for i in range(n_qubits):\n",
    "                qdev.cz(wires=[i,(i+1)%n_qubits])\n",
    "        for i in range(n_qubits): # 32, 64\n",
    "            for j in range(n_latter_half_qubits):\n",
    "                if j%2==0:\n",
    "                    tq.functional.ry(qdev, wires=i, params=phi[2*n_latter_half_qubits*i+2*j+2*n_half_qubits*n_qubits+4*n_depth_per_block*n_qubits])\n",
    "                    tq.functional.rx(qdev, wires=i, params=x[:,n_latter_half_qubits*i+j+n_half_qubits*n_qubits]) ##\n",
    "                    tq.functional.ry(qdev, wires=i, params=phi[2*n_latter_half_qubits*i+2*j+1+2*n_half_qubits*n_qubits+4*n_depth_per_block*n_qubits])\n",
    "                else:\n",
    "                    tq.functional.rx(qdev, wires=i, params=phi[2*n_latter_half_qubits*i+2*j+2*n_half_qubits*n_qubits+4*n_depth_per_block*n_qubits])\n",
    "                    tq.functional.ry(qdev, wires=i, params=x[:,n_latter_half_qubits*i+j+n_half_qubits*n_qubits]) ##\n",
    "                    tq.functional.rx(qdev, wires=i, params=phi[2*n_latter_half_qubits*i+2*j+1+2*n_half_qubits*n_qubits+4*n_depth_per_block*n_qubits])\n",
    "        for i in range(n_qubits):\n",
    "            qdev.cz(wires=[i,(i+1)%(n_qubits)])\n",
    "        j= 2\n",
    "        for k in range(n_depth_per_block):\n",
    "            for i in range(n_qubits):\n",
    "                tq.functional.rx(qdev, wires=i, params=phi[i+(4*n_depth_per_block+2*n_qubits +2*k)*n_qubits])\n",
    "            for i in range(n_qubits):\n",
    "                tq.functional.ry(qdev, wires=i, params=phi[i+(4*n_depth_per_block+2*n_qubits +2*k+1)*n_qubits])\n",
    "            if (k==n_depth_per_block-1):\n",
    "                break\n",
    "            for i in range(n_qubits):\n",
    "                qdev.cz(wires=[i,(i+1)%n_qubits])\n",
    "        obs_list = [ calc_exp_val(qdev, \"I\"*i+Pauli+\"I\"*(n_qubits-1-i)) for Pauli in [\"X\",\"Z\"] for i in range(n_class//2)]\n",
    "        ret = torch.stack(obs_list, dim=1)\n",
    "        return ret"
   ]
  },
  {
   "cell_type": "code",
   "execution_count": 12,
   "metadata": {
    "execution": {
     "iopub.execute_input": "2025-02-26T04:05:06.379444Z",
     "iopub.status.busy": "2025-02-26T04:05:06.379272Z",
     "iopub.status.idle": "2025-02-26T04:05:06.382469Z",
     "shell.execute_reply": "2025-02-26T04:05:06.382195Z"
    }
   },
   "outputs": [],
   "source": [
    "# 14x14 => 7x14x2\n",
    "# 1:8, 7:14 -> 0:7, 6:13\n",
    "# 1:8, 4:11, 7:14 -> 0:7, 3:10, 6:13\n",
    "class QNNModel(nn.Module):\n",
    "    def __init__(self):\n",
    "        super().__init__()\n",
    "        self.params_list = nn.ParameterList([torch.rand( (3*2*n_depth_per_block+2*n_qubits)*n_qubits )*math.pi for _ in range(n_qnn)])\n",
    "        self.pos_bias = nn.Parameter( torch.zeros(14, 14, device=device) )\n",
    "        self.qnn_list = [QNNsubModel() for _ in range(n_qnn)]\n",
    "    def forward(self, x):\n",
    "        n_data = len(x)\n",
    "        in_x = x + self.pos_bias\n",
    "        in_x = torch.stack([ in_x[:,i:i+n_qubits,j:j+n_qubits].reshape(n_data,n_qubits*n_qubits) for i in [0,3,6] for j in [0,3,6] ], axis=0) # (9,n_data,64)\n",
    "        #ret_list = [checkpoint.checkpoint(self.qnn_list[i], in_x[i], self.params_list[i]) for i in range(n_qnn)]\n",
    "        ret_list = [self.qnn_list[i](in_x[i], self.params_list[i]) for i in range(n_qnn)]\n",
    "        ret = torch.stack(ret_list, axis=1) # (bsz, n_qnn, n_class)\n",
    "        ret = torch.mean(ret, axis=1) # (bsz,n_class)\n",
    "        return ret"
   ]
  },
  {
   "cell_type": "code",
   "execution_count": 13,
   "metadata": {
    "execution": {
     "iopub.execute_input": "2025-02-26T04:05:06.383688Z",
     "iopub.status.busy": "2025-02-26T04:05:06.383504Z",
     "iopub.status.idle": "2025-02-26T04:05:06.386495Z",
     "shell.execute_reply": "2025-02-26T04:05:06.386235Z"
    },
    "id": "vwqhXVC1vMDj"
   },
   "outputs": [],
   "source": [
    "def train(data, label, model, accumulation_steps):\n",
    "    pred = model(data) # (bsz, n_class)\n",
    "    loss = torch.nn.CrossEntropyLoss()(pred, label)\n",
    "    loss = loss / accumulation_steps\n",
    "    loss.backward()\n",
    "    with torch.no_grad():\n",
    "        pred_normalized = nn.functional.softmax(pred, dim=1)\n",
    "        acc = (pred_normalized.argmax(axis=1) == label).sum().item() / len(label)\n",
    "    print(f\"train loss: {loss.item()*accumulation_steps:.5f} train acc: {acc:.3f}\", end='\\n')\n",
    "    return loss.item(), acc\n",
    "\n",
    "def valid(data, label, model):\n",
    "    with torch.no_grad():\n",
    "        pred = model(data)\n",
    "        loss = torch.nn.CrossEntropyLoss()(pred, label)\n",
    "        pred_normalized = nn.functional.softmax(pred, dim=1)\n",
    "        acc = (pred_normalized.argmax(axis=1) == label).sum().item() / len(label)\n",
    "    print(f\"valid loss: {loss.item():.5f} valid acc: {acc:.3f}\", end='\\n')\n",
    "    return loss.item(), acc"
   ]
  },
  {
   "cell_type": "code",
   "execution_count": 14,
   "metadata": {
    "execution": {
     "iopub.execute_input": "2025-02-26T04:05:06.387704Z",
     "iopub.status.busy": "2025-02-26T04:05:06.387569Z",
     "iopub.status.idle": "2025-02-26T04:05:06.410268Z",
     "shell.execute_reply": "2025-02-26T04:05:06.409913Z"
    }
   },
   "outputs": [
    {
     "name": "stdout",
     "output_type": "stream",
     "text": [
      "torch.Size([60000, 14, 14]) torch.Size([10000, 14, 14])\n"
     ]
    }
   ],
   "source": [
    "# normalization: /255*math.pi/n_half_qubits=/255*2*math.pi/n_qubits ??\n",
    "data_tr = data_tr/255*2*math.pi/n_qubits\n",
    "data_te = data_te/255*2*math.pi/n_qubits\n",
    "\n",
    "data_tr = torch.nn.AvgPool2d( (2,2), stride=(2,2) )(data_tr) # (28,28) -> (14,14)\n",
    "data_te = torch.nn.AvgPool2d( (2,2), stride=(2,2) )(data_te) # (28,28) -> (14,14)\n",
    "\n",
    "#data_tr = data_tr.reshape(-1,data_tr.shape[1]*data_tr.shape[2]) #.detach().numpy()\n",
    "#data_te = data_te.reshape(-1,data_te.shape[1]*data_te.shape[2]) #.detach().numpy()\n",
    "print(data_tr.shape, data_te.shape)"
   ]
  },
  {
   "cell_type": "code",
   "execution_count": 15,
   "metadata": {
    "colab": {
     "base_uri": "https://localhost:8080/"
    },
    "execution": {
     "iopub.execute_input": "2025-02-26T04:05:06.411888Z",
     "iopub.status.busy": "2025-02-26T04:05:06.411672Z",
     "iopub.status.idle": "2025-02-26T04:05:06.677706Z",
     "shell.execute_reply": "2025-02-26T04:05:06.677312Z"
    },
    "id": "mj_O5gA1LZMs",
    "outputId": "d3a6fccd-d75d-4265-9c1a-7e8275405cd5"
   },
   "outputs": [],
   "source": [
    "max_epochs = 50\n",
    "coeff=100\n",
    "#data_tr, label_tr = data_tr.to(device), label_tr.to(device)\n",
    "data_te, label_te = data_te.to(device), label_te.to(device)\n",
    "model = torch.nn.Sequential(\n",
    "    QNNModel(),\n",
    "    ConstCoeffLayer(coeff)\n",
    ")\n",
    "\n",
    "# すべての点で求めて、手動で各local minimum の点を選ぶ.\n",
    "dir_name = \"tmp_\"+str(n_qubits)+\"qubits_\"+str(n_qnn)+\"qnn\"\n",
    "if n_depth_per_block>50:\n",
    "    dir_name += str(n_depth_per_block)\n",
    "prefix_name = dataset_name+\"_\"+str(n_qnn)+\"qnn\"+str(n_depth_per_block)+\"_c\"+str(coeff)+\"_\"+str(n_qubits)+\"qubits_ensembling_cos\""
   ]
  },
  {
   "cell_type": "code",
   "execution_count": 16,
   "metadata": {
    "execution": {
     "iopub.execute_input": "2025-02-26T04:05:06.679649Z",
     "iopub.status.busy": "2025-02-26T04:05:06.679362Z",
     "iopub.status.idle": "2025-02-26T04:05:06.687374Z",
     "shell.execute_reply": "2025-02-26T04:05:06.687090Z"
    }
   },
   "outputs": [
    {
     "name": "stdout",
     "output_type": "stream",
     "text": [
      "46 0.0051080607809126\n"
     ]
    }
   ],
   "source": [
    "losses = pd.read_csv(dir_name+'/'+prefix_name+'_losses.csv')\n",
    "min_index = losses['train_loss'].argmin()\n",
    "min_epochs = losses['epochs'][min_index]\n",
    "print(min_epochs, losses['train_loss'][min_index])"
   ]
  },
  {
   "cell_type": "code",
   "execution_count": 17,
   "metadata": {
    "execution": {
     "iopub.execute_input": "2025-02-26T04:05:06.688708Z",
     "iopub.status.busy": "2025-02-26T04:05:06.688512Z",
     "iopub.status.idle": "2025-02-26T04:05:06.822865Z",
     "shell.execute_reply": "2025-02-26T04:05:06.822599Z"
    }
   },
   "outputs": [
    {
     "data": {
      "text/plain": [
       "Sequential(\n",
       "  (0): QNNModel(\n",
       "    (params_list): ParameterList(\n",
       "        (0): Parameter containing: [torch.float32 of size 7328 (cuda:0)]\n",
       "        (1): Parameter containing: [torch.float32 of size 7328 (cuda:0)]\n",
       "        (2): Parameter containing: [torch.float32 of size 7328 (cuda:0)]\n",
       "        (3): Parameter containing: [torch.float32 of size 7328 (cuda:0)]\n",
       "        (4): Parameter containing: [torch.float32 of size 7328 (cuda:0)]\n",
       "        (5): Parameter containing: [torch.float32 of size 7328 (cuda:0)]\n",
       "        (6): Parameter containing: [torch.float32 of size 7328 (cuda:0)]\n",
       "        (7): Parameter containing: [torch.float32 of size 7328 (cuda:0)]\n",
       "        (8): Parameter containing: [torch.float32 of size 7328 (cuda:0)]\n",
       "    )\n",
       "  )\n",
       "  (1): ConstCoeffLayer()\n",
       ")"
      ]
     },
     "execution_count": 17,
     "metadata": {},
     "output_type": "execute_result"
    }
   ],
   "source": [
    "# hessian_dataloader = (data_tr, label_tr)\n",
    "dataloader = []\n",
    "model = torch.nn.Sequential( QNNModel(), ConstCoeffLayer(coeff))\n",
    "model.load_state_dict(torch.load(dir_name+'/'+prefix_name+'_epoch'+str(min_epochs)+'.pt', weights_only=True))\n",
    "model = model.cuda()\n",
    "\n",
    "tmp_skf = StratifiedKFold(n_splits=300, shuffle=True, random_state=0) # for minibatch training with shuffling the samples\n",
    "for i_fold, (_, tmp_te) in enumerate(tmp_skf.split(data_tr, label_tr)):\n",
    "    dataloader.append( (data_tr[tmp_te].to(device=device), label_tr[tmp_te].to(device=device)) )\n",
    "\n",
    "\n",
    "model.eval()\n",
    "#dataloader = [(data_tr[tmp_te].to(device=device), label_tr[tmp_te].to(device=device))]\n",
    "#dataloader = [(data_tr.to(device=device), label_tr.to(device=device))]"
   ]
  },
  {
   "cell_type": "code",
   "execution_count": 18,
   "metadata": {
    "execution": {
     "iopub.execute_input": "2025-02-26T04:05:06.824328Z",
     "iopub.status.busy": "2025-02-26T04:05:06.824107Z",
     "iopub.status.idle": "2025-03-05T00:06:11.028114Z",
     "shell.execute_reply": "2025-03-05T00:06:11.027701Z"
    }
   },
   "outputs": [
    {
     "name": "stdout",
     "output_type": "stream",
     "text": [
      "Top Eigenvalues:  [6.091053009033203]\n"
     ]
    }
   ],
   "source": [
    "hessian_comp = hessian(model, torch.nn.CrossEntropyLoss(), dataloader=dataloader, cuda=True)\n",
    "top_eigenvalues, top_eigenvector = hessian_comp.eigenvalues(top_n=1)\n",
    "print('Top Eigenvalues: ', top_eigenvalues)"
   ]
  },
  {
   "cell_type": "code",
   "execution_count": null,
   "metadata": {},
   "outputs": [],
   "source": []
  }
 ],
 "metadata": {
  "accelerator": "GPU",
  "colab": {
   "gpuType": "T4",
   "provenance": []
  },
  "kernelspec": {
   "display_name": "Python 3 (ipykernel)",
   "language": "python",
   "name": "python3"
  },
  "language_info": {
   "codemirror_mode": {
    "name": "ipython",
    "version": 3
   },
   "file_extension": ".py",
   "mimetype": "text/x-python",
   "name": "python",
   "nbconvert_exporter": "python",
   "pygments_lexer": "ipython3",
   "version": "3.10.12"
  }
 },
 "nbformat": 4,
 "nbformat_minor": 4
}
